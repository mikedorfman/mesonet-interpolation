{
 "cells": [
  {
   "cell_type": "code",
   "execution_count": 38,
   "metadata": {
    "collapsed": true
   },
   "outputs": [],
   "source": [
    "%matplotlib inline"
   ]
  },
  {
   "cell_type": "code",
   "execution_count": 108,
   "metadata": {
    "collapsed": true
   },
   "outputs": [],
   "source": [
    "import urllib\n",
    "import json\n",
    "import pandas as pd\n",
    "import matplotlib.pyplot as plt\n",
    "from sklearn.linear_model import LinearRegression \n",
    "from sklearn.preprocessing import PolynomialFeatures"
   ]
  },
  {
   "cell_type": "code",
   "execution_count": 80,
   "metadata": {},
   "outputs": [],
   "source": [
    "\n",
    "def getData(data):\n",
    "    \"\"\"\n",
    "    This function will take the data extracted from the JSON and put it into a pandas dataframe\n",
    "    \n",
    "    Since all the data is coming from a JSON I have decided to grab lat and long every time, this will\n",
    "    help in the future if new mesonets are added to the system.\n",
    "    \n",
    "    There may be a much easier way to extract data from a dictionary then what I did but it works\n",
    "    \"\"\"\n",
    "    \n",
    "    #creating empty dataframe\n",
    "    AllData = pd.DataFrame([], columns=('Station','Latitude','Longitude','Height','Temperature'))\n",
    "    \n",
    "    #loop for going through json. Station represents the only variable, mesonet name\n",
    "    for station in data['currentMesonetConditions']:\n",
    "        lat    = data['currentMesonetConditions'][station]['latitude']\n",
    "        lon    = data['currentMesonetConditions'][station]['longitude']\n",
    "        height = data['currentMesonetConditions'][station]['sitelevation']\n",
    "        temp   = data['currentMesonetConditions'][station]['temperature']\n",
    "        AllData = AllData.append({'Station':station,\n",
    "                                  'Latitude':float(lat),\n",
    "                                  'Longitude':float(lon),\n",
    "                                  'Height':int(height),\n",
    "                                  'Temperature':float(temp)},\n",
    "                                 ignore_index=True) #I am forcing the dataframe without an index\n",
    "        \n",
    "    return AllData"
   ]
  },
  {
   "cell_type": "code",
   "execution_count": 206,
   "metadata": {},
   "outputs": [],
   "source": [
    "with urllib.request.urlopen(\"http://xmountwashington.appspot.com/mesonet-feed.php?callback=1\") as url:\n",
    "    data = json.loads(url.read().decode())\n",
    "    \n",
    "MesoDataFrame = getData(data)\n",
    "MesoDataFrame = MesoDataFrame.sort_values(by=['Height'])\n",
    "#Having trouble getting SKLearn to work with full dataframe so just extracted what I need\n",
    "tempData = MesoDataFrame[['Height','Temperature']]"
   ]
  },
  {
   "cell_type": "code",
   "execution_count": 207,
   "metadata": {},
   "outputs": [],
   "source": [
    "#Putting data into xy cordinates\n",
    "X = tempData.iloc[:,0:1].values\n",
    "Y =  tempData.iloc[:,1].values"
   ]
  },
  {
   "cell_type": "code",
   "execution_count": 208,
   "metadata": {},
   "outputs": [
    {
     "data": {
      "text/plain": [
       "LinearRegression(copy_X=True, fit_intercept=True, n_jobs=1, normalize=False)"
      ]
     },
     "execution_count": 208,
     "metadata": {},
     "output_type": "execute_result"
    }
   ],
   "source": [
    "#Creating a polynomial to plot the data and create a learning function, 3rd degree has matched best so far with test\n",
    "poly = PolynomialFeatures(degree=3)\n",
    "X_poly = poly.fit_transform(X)\n",
    "\n",
    "poly.fit(X_poly, Y)\n",
    "line = LinearRegression()\n",
    "line.fit(X_poly, Y)"
   ]
  },
  {
   "cell_type": "code",
   "execution_count": 209,
   "metadata": {},
   "outputs": [
    {
     "data": {
      "text/plain": [
       "[<matplotlib.lines.Line2D at 0x2c27c8ef9e8>]"
      ]
     },
     "execution_count": 209,
     "metadata": {},
     "output_type": "execute_result"
    },
    {
     "data": {
      "image/png": "[encoded data removed]",
      "text/plain": [
       "<Figure size 432x288 with 1 Axes>"
      ]
     },
     "metadata": {
      "needs_background": "light"
     },
     "output_type": "display_data"
    }
   ],
   "source": [
    "plt.scatter(X,Y)\n",
    "plt.plot(X,line.predict(poly.fit_transform(X)))"
   ]
  },
  {
   "cell_type": "code",
   "execution_count": 210,
   "metadata": {},
   "outputs": [
    {
     "data": {
      "text/plain": [
       "(array([85.80110621]), array([76.97161006]), array([48.00459416]))"
      ]
     },
     "execution_count": 210,
     "metadata": {},
     "output_type": "execute_result"
    }
   ],
   "source": [
    "line.predict(poly.fit_transform([[10]])),line.predict(poly.fit_transform([[1000]])),line.predict(poly.fit_transform([[7000]]))"
   ]
  },
  {
   "cell_type": "code",
   "execution_count": 211,
   "metadata": {},
   "outputs": [
    {
     "data": {
      "text/html": [
       "<div>\n",
       "<style scoped>\n",
       "    .dataframe tbody tr th:only-of-type {\n",
       "        vertical-align: middle;\n",
       "    }\n",
       "\n",
       "    .dataframe tbody tr th {\n",
       "        vertical-align: top;\n",
       "    }\n",
       "\n",
       "    .dataframe thead th {\n",
       "        text-align: right;\n",
       "    }\n",
       "</style>\n",
       "<table border=\"1\" class=\"dataframe\">\n",
       "  <thead>\n",
       "    <tr style=\"text-align: right;\">\n",
       "      <th></th>\n",
       "      <th>Station</th>\n",
       "      <th>Latitude</th>\n",
       "      <th>Longitude</th>\n",
       "      <th>Height</th>\n",
       "      <th>Temperature</th>\n",
       "    </tr>\n",
       "  </thead>\n",
       "  <tbody>\n",
       "    <tr>\n",
       "      <th>0</th>\n",
       "      <td>NCON</td>\n",
       "      <td>44.056221</td>\n",
       "      <td>-71.129730</td>\n",
       "      <td>539</td>\n",
       "      <td>80.3</td>\n",
       "    </tr>\n",
       "    <tr>\n",
       "      <th>11</th>\n",
       "      <td>CRAN</td>\n",
       "      <td>44.057569</td>\n",
       "      <td>-71.092848</td>\n",
       "      <td>1670</td>\n",
       "      <td>75.2</td>\n",
       "    </tr>\n",
       "    <tr>\n",
       "      <th>2</th>\n",
       "      <td>HICR</td>\n",
       "      <td>44.220293</td>\n",
       "      <td>-71.411553</td>\n",
       "      <td>1929</td>\n",
       "      <td>69.0</td>\n",
       "    </tr>\n",
       "    <tr>\n",
       "      <th>13</th>\n",
       "      <td>ATTI</td>\n",
       "      <td>44.070604</td>\n",
       "      <td>-71.219595</td>\n",
       "      <td>2274</td>\n",
       "      <td>71.1</td>\n",
       "    </tr>\n",
       "    <tr>\n",
       "      <th>5</th>\n",
       "      <td>AR23</td>\n",
       "      <td>44.281127</td>\n",
       "      <td>-71.246320</td>\n",
       "      <td>2310</td>\n",
       "      <td>69.6</td>\n",
       "    </tr>\n",
       "    <tr>\n",
       "      <th>1</th>\n",
       "      <td>BRWD</td>\n",
       "      <td>44.254531</td>\n",
       "      <td>-71.465018</td>\n",
       "      <td>2548</td>\n",
       "      <td>67.1</td>\n",
       "    </tr>\n",
       "    <tr>\n",
       "      <th>7</th>\n",
       "      <td>CANN</td>\n",
       "      <td>44.157722</td>\n",
       "      <td>-71.699151</td>\n",
       "      <td>2925</td>\n",
       "      <td>60.3</td>\n",
       "    </tr>\n",
       "    <tr>\n",
       "      <th>10</th>\n",
       "      <td>AR33</td>\n",
       "      <td>44.286711</td>\n",
       "      <td>-71.265723</td>\n",
       "      <td>3310</td>\n",
       "      <td>66.2</td>\n",
       "    </tr>\n",
       "    <tr>\n",
       "      <th>3</th>\n",
       "      <td>MIZP</td>\n",
       "      <td>44.219442</td>\n",
       "      <td>-71.369436</td>\n",
       "      <td>3843</td>\n",
       "      <td>62.4</td>\n",
       "    </tr>\n",
       "    <tr>\n",
       "      <th>9</th>\n",
       "      <td>WILD</td>\n",
       "      <td>44.249077</td>\n",
       "      <td>-71.224602</td>\n",
       "      <td>3990</td>\n",
       "      <td>62.5</td>\n",
       "    </tr>\n",
       "    <tr>\n",
       "      <th>8</th>\n",
       "      <td>TUCK</td>\n",
       "      <td>44.260075</td>\n",
       "      <td>-71.286295</td>\n",
       "      <td>4005</td>\n",
       "      <td>63.0</td>\n",
       "    </tr>\n",
       "    <tr>\n",
       "      <th>12</th>\n",
       "      <td>AR40</td>\n",
       "      <td>44.295376</td>\n",
       "      <td>-71.279357</td>\n",
       "      <td>4093</td>\n",
       "      <td>65.6</td>\n",
       "    </tr>\n",
       "    <tr>\n",
       "      <th>6</th>\n",
       "      <td>AR53</td>\n",
       "      <td>44.281442</td>\n",
       "      <td>-71.292144</td>\n",
       "      <td>5305</td>\n",
       "      <td>54.6</td>\n",
       "    </tr>\n",
       "    <tr>\n",
       "      <th>4</th>\n",
       "      <td>SUMT</td>\n",
       "      <td>44.270837</td>\n",
       "      <td>-71.303482</td>\n",
       "      <td>6310</td>\n",
       "      <td>53.1</td>\n",
       "    </tr>\n",
       "  </tbody>\n",
       "</table>\n",
       "</div>"
      ],
      "text/plain": [
       "   Station   Latitude  Longitude Height  Temperature\n",
       "0     NCON  44.056221 -71.129730    539         80.3\n",
       "11    CRAN  44.057569 -71.092848   1670         75.2\n",
       "2     HICR  44.220293 -71.411553   1929         69.0\n",
       "13    ATTI  44.070604 -71.219595   2274         71.1\n",
       "5     AR23  44.281127 -71.246320   2310         69.6\n",
       "1     BRWD  44.254531 -71.465018   2548         67.1\n",
       "7     CANN  44.157722 -71.699151   2925         60.3\n",
       "10    AR33  44.286711 -71.265723   3310         66.2\n",
       "3     MIZP  44.219442 -71.369436   3843         62.4\n",
       "9     WILD  44.249077 -71.224602   3990         62.5\n",
       "8     TUCK  44.260075 -71.286295   4005         63.0\n",
       "12    AR40  44.295376 -71.279357   4093         65.6\n",
       "6     AR53  44.281442 -71.292144   5305         54.6\n",
       "4     SUMT  44.270837 -71.303482   6310         53.1"
      ]
     },
     "execution_count": 211,
     "metadata": {},
     "output_type": "execute_result"
    }
   ],
   "source": [
    "MesoDataFrame"
   ]
  }
 ],
 "metadata": {
  "kernelspec": {
   "display_name": "Python [conda env:mesonetTemp]",
   "language": "python",
   "name": "conda-env-mesonetTemp-py"
  },
  "language_info": {
   "codemirror_mode": {
    "name": "ipython",
    "version": 3
   },
   "file_extension": ".py",
   "mimetype": "text/x-python",
   "name": "python",
   "nbconvert_exporter": "python",
   "pygments_lexer": "ipython3",
   "version": "3.6.5"
  }
 },
 "nbformat": 4,
 "nbformat_minor": 2
}
